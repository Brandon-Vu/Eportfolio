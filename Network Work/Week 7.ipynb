{
 "cells": [
  {
   "cell_type": "code",
   "execution_count": null,
   "metadata": {},
   "outputs": [
    {
     "name": "stdout",
     "output_type": "stream",
     "text": [
      "---- Exercise 1: Testing Even Parity on Various Data Sets ----\n",
      "\n",
      "Dataset: All zeros\n",
      "  Original Data:     [0, 0, 0, 0, 0, 0, 0, 0]\n",
      "  Transmitted Data:  [0, 0, 0, 0, 0, 0, 0, 0, 0]\n",
      "  Parity Valid:      True\n",
      "\n",
      "Dataset: All ones\n",
      "  Original Data:     [1, 1, 1, 1, 1, 1, 1, 1]\n",
      "  Transmitted Data:  [1, 1, 1, 1, 1, 1, 1, 1, 0]\n",
      "  Parity Valid:      True\n",
      "\n",
      "Dataset: Alternate 0 and 1\n",
      "  Original Data:     [0, 1, 0, 1, 0, 1, 0, 1]\n",
      "  Transmitted Data:  [0, 1, 0, 1, 0, 1, 0, 1, 0]\n",
      "  Parity Valid:      True\n",
      "\n",
      "Dataset: Random\n",
      "  Original Data:     [1, 0, 1, 1, 0, 0, 1, 0]\n",
      "  Transmitted Data:  [1, 0, 1, 1, 0, 0, 1, 0, 0]\n",
      "  Parity Valid:      True\n"
     ]
    }
   ],
   "source": [
    "def compute_even_parity(data):\n",
    "    \"\"\"\n",
    "    Compute the even parity bit for an 8-bit data list.\n",
    "    Returns 1 if the sum of bits is odd (to make total even), else 0.\n",
    "    \"\"\"\n",
    "    return sum(data) % 2\n",
    "\n",
    "def parity_check(data_with_parity):\n",
    "    \"\"\"\n",
    "    Check if the data (including the parity bit) satisfies even parity.\n",
    "    Returns True if the total number of 1s is even, otherwise False.\n",
    "    \"\"\"\n",
    "    return sum(data_with_parity) % 2 == 0\n",
    "\n",
    "def test_parity_on_data(data):\n",
    "    \"\"\"\n",
    "    Compute the parity bit, append it to the data, and verify the parity.\n",
    "    Returns the transmitted data (data + parity) and a boolean indicating validity.\n",
    "    \"\"\"\n",
    "    parity_bit = compute_even_parity(data)\n",
    "    transmitted_data = data + [parity_bit]\n",
    "    valid = parity_check(transmitted_data)\n",
    "    return transmitted_data, valid\n",
    "\n",
    "data_sets = {\n",
    "    \"All zeros\": [0, 0, 0, 0, 0, 0, 0, 0],\n",
    "    \"All ones\": [1, 1, 1, 1, 1, 1, 1, 1],\n",
    "    \"Alternate 0 and 1\": [0, 1, 0, 1, 0, 1, 0, 1],\n",
    "    \"Random\": [1, 0, 1, 1, 0, 0, 1, 0]\n",
    "}\n",
    "\n",
    "print(\"Exercise 1: Testing Even Parity on Various Data Sets\")\n",
    "for label, data in data_sets.items():\n",
    "    transmitted, valid = test_parity_on_data(data)\n",
    "    print(f\"\\nDataset: {label}\")\n",
    "    print(\"  Original Data:    \", data)\n",
    "    print(\"  Transmitted Data: \", transmitted)\n",
    "    print(\"  Parity Valid:     \", valid)\n"
   ]
  },
  {
   "cell_type": "code",
   "execution_count": null,
   "metadata": {},
   "outputs": [
    {
     "name": "stdout",
     "output_type": "stream",
     "text": [
      "---- Exercise 2: Simulating Error Injection ----\n",
      "Original Transmitted Data: [0, 1, 0, 1, 0, 1, 0, 1, 0]\n",
      "Data after Error Injection at index 3 : [0, 1, 0, 0, 0, 1, 0, 1, 0]\n",
      "Parity Check Failed: Error detected\n"
     ]
    }
   ],
   "source": [
    "def compute_even_parity(data):\n",
    "    \"\"\"\n",
    "    Compute the even parity bit for an 8-bit data list.\n",
    "    Returns 1 if the sum of bits is odd (to make total even), else 0.\n",
    "    \"\"\"\n",
    "    return sum(data) % 2\n",
    "\n",
    "def parity_check(data_with_parity):\n",
    "    \"\"\"\n",
    "    Check if the data (including the parity bit) satisfies even parity.\n",
    "    Returns True if the total number of 1s is even, otherwise False.\n",
    "    \"\"\"\n",
    "    return sum(data_with_parity) % 2 == 0\n",
    "\n",
    "def test_parity_on_data(data):\n",
    "    \"\"\"\n",
    "    Compute the parity bit, append it to the data, and verify the parity.\n",
    "    Returns the transmitted data (data + parity) and a boolean indicating validity.\n",
    "    \"\"\"\n",
    "    parity_bit = compute_even_parity(data)\n",
    "    transmitted_data = data + [parity_bit]\n",
    "    valid = parity_check(transmitted_data)\n",
    "    return transmitted_data, valid\n",
    "\n",
    "data = [0, 1, 0, 1, 0, 1, 0, 1]\n",
    "transmitted_data, valid = test_parity_on_data(data)\n",
    "print(\"Exercise 2: Simulating Error Injection\")\n",
    "print(\"Original Transmitted Data:\", transmitted_data)\n",
    "\n",
    "error_index = 3\n",
    "data_with_error = transmitted_data.copy()\n",
    "data_with_error[error_index] = 1 - data_with_error[error_index]\n",
    "print(\"Data after Error Injection at index\", error_index, \":\", data_with_error)\n",
    "\n",
    "if parity_check(data_with_error):\n",
    "    print(\"Parity Check Passed: No error detected\")\n",
    "else:\n",
    "    print(\"Parity Check Failed: Error detected\")\n"
   ]
  }
 ],
 "metadata": {
  "kernelspec": {
   "display_name": "base",
   "language": "python",
   "name": "python3"
  },
  "language_info": {
   "codemirror_mode": {
    "name": "ipython",
    "version": 3
   },
   "file_extension": ".py",
   "mimetype": "text/x-python",
   "name": "python",
   "nbconvert_exporter": "python",
   "pygments_lexer": "ipython3",
   "version": "3.12.4"
  }
 },
 "nbformat": 4,
 "nbformat_minor": 2
}
