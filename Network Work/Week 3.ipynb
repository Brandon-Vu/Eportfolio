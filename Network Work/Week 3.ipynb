{
 "cells": [
  {
   "cell_type": "code",
   "execution_count": null,
   "metadata": {},
   "outputs": [
    {
     "name": "stdout",
     "output_type": "stream",
     "text": [
      "The IP address of github.com is 20.26.156.215\n"
     ]
    }
   ],
   "source": [
    "# Exercise 1: Retrieving IP addresses\n",
    "\n",
    "import socket\n",
    "\n",
    "def get_ip_address(website_url):\n",
    "    try:\n",
    "        ip_address = socket.gethostbyname(website_url)\n",
    "        print(f\"The IP address of {website_url} is {ip_address}\")\n",
    "    except socket.gaierror:\n",
    "        print(f\"Unable to get the IP address for {website_url}\")\n",
    "\n",
    "\n",
    "website = input(\"Enter the website URL (without the 'https://'): \")\n",
    "get_ip_address(website)\n",
    "\n",
    "# The IP address of google.com is 216.58.213.14\n",
    "# The IP address of learn.gold.ac.uk is 52.169.178.98\n",
    "# The IP address of github.com is 20.26.156.215"
   ]
  },
  {
   "cell_type": "code",
   "execution_count": null,
   "metadata": {},
   "outputs": [
    {
     "name": "stdout",
     "output_type": "stream",
     "text": [
      "\n",
      "Tracing route to youtube-ui.l.google.com [172.217.169.14]\n",
      "over a maximum of 30 hops:\n",
      "\n",
      "  1     1 ms     1 ms     1 ms  10.32.128.1 \n",
      "  2    61 ms     9 ms     3 ms  gw-vlan2593.e2.hex.ask4.net [213.143.8.25] \n",
      "  3    18 ms     4 ms     3 ms  core1.lond2.uk.ask4.net [213.143.0.150] \n",
      "  4    30 ms     4 ms     3 ms  core2.lond2.uk.ask4.net [213.143.0.145] \n",
      "  5     2 ms     2 ms     3 ms  ask4-google-10ge-1.hex.ask4.net [213.143.6.5] \n",
      "  6     4 ms     4 ms     3 ms  209.85.249.149 \n",
      "  7     5 ms     5 ms     3 ms  209.85.241.95 \n",
      "  8     3 ms     3 ms     5 ms  lhr25s26-in-f14.1e100.net [172.217.169.14] \n",
      "\n",
      "Trace complete.\n",
      "\n"
     ]
    },
    {
     "ename": "",
     "evalue": "",
     "output_type": "error",
     "traceback": [
      "\u001b[1;31mThe Kernel crashed while executing code in the current cell or a previous cell. \n",
      "\u001b[1;31mPlease review the code in the cell(s) to identify a possible cause of the failure. \n",
      "\u001b[1;31mClick <a href='https://aka.ms/vscodeJupyterKernelCrash'>here</a> for more info. \n",
      "\u001b[1;31mView Jupyter <a href='command:jupyter.viewOutput'>log</a> for further details."
     ]
    }
   ],
   "source": [
    "# Exercise 2: Trace Route\n",
    "\n",
    "import subprocess\n",
    "\n",
    "def tracert(domain):\n",
    "    try:\n",
    "        result = subprocess.run([\"tracert\", domain] , capture_output=True, text=True)\n",
    "        print(result.stdout)\n",
    "    except FileNotFoundError:\n",
    "        print(\"Trace route command not found. Make sure it's available on your system.\")\n",
    "    except Exception as e:\n",
    "        print(f\"An error occurred: {e}\")\n",
    "\n",
    "domain = input(\"Enter the website or IP address for trace route: \")\n",
    "tracert(domain)"
   ]
  },
  {
   "cell_type": "markdown",
   "metadata": {},
   "source": [
    "# Exercise 3 and 4: Analysis and Bottlenecks\n",
    "\n",
    "1. github.com\n",
    "\n",
    "Tracing route to github.com [20.26.156.215]\n",
    "over a maximum of 30 hops:\n",
    "\n",
    "  1     1 ms     2 ms     1 ms  10.32.128.1 \n",
    "  2     4 ms     3 ms     3 ms  gw-vlan2593.e2.hex.ask4.net [213.143.8.25] \n",
    "  3     3 ms    12 ms     2 ms  core2.lond2.uk.ask4.net [213.143.0.152] \n",
    "  4     2 ms     2 ms     2 ms  fourhundredgigabitethernet33-1.core1.lond1.uk.ask4.net [213.143.0.182] \n",
    "  5    85 ms    12 ms     3 ms  ae77-0.ier06.lon32.ntwk.msn.net [104.44.47.167] \n",
    "  6     4 ms     4 ms     8 ms  ae35-0.icr02.lon22.ntwk.msn.net [51.10.15.217] \n",
    "  7     5 ms     4 ms     *     be-122-0.ibr02.lon22.ntwk.msn.net [104.44.21.97] \n",
    "  8     *        *        4 ms  51.10.35.48 \n",
    "  9     5 ms     5 ms     6 ms  51.10.16.206 \n",
    " 10     *        *        *     Request timed out.\n",
    " 11     *        *        *     Request timed out.\n",
    " 12     *        *        *     Request timed out.\n",
    " 13     *        *        *     Request timed out.\n",
    " 14     3 ms     4 ms     3 ms  20.26.156.215 \n",
    "\n",
    "Trace complete.\n",
    "\n",
    "The traceroute to github.com begins with a local gateway (10.32.128.1) and quickly moves to an ISP gateway at hop 2 (gw-vlan2593.e2.hex.ask4.net [213.143.8.25]). These first two hops indicate that all traffic from my network uses the same initial route.\n",
    "\n",
    "After these initial hops, the route continues through core routers in London (hops 3 and 4) with addresses such as core2.lond2.uk.ask4.net [213.143.0.152] and fourhundredgigabitethernet33-1.core1.lond1.uk.ask4.net [213.143.0.182]. However, the route for github.com then diverges into additional hops, including one with a notably high latency measurement (85 ms at hop 5) and several hops (hops 10 to 13) that time out.\n",
    "\n",
    "Ultimately, the trace concludes at hop 14 with the destination IP 20.26.156.215. The extra hops and occasional high latency suggest that the route to GitHub is more complex. This complexity might be due to different routing policies or the use of additional security measures within the network that hosts GitHub services.\n",
    "\n",
    "2. google.com\n",
    "\n",
    "Tracing route to www.google.com [142.250.187.228]\n",
    "over a maximum of 30 hops:\n",
    "\n",
    "  1     3 ms     1 ms     1 ms  10.32.128.1 \n",
    "  2     8 ms     3 ms     3 ms  gw-vlan2593.e2.hex.ask4.net [213.143.8.25] \n",
    "  3     4 ms     2 ms     3 ms  core1.lond2.uk.ask4.net [213.143.0.150] \n",
    "  4     7 ms     2 ms     2 ms  core2.lond2.uk.ask4.net [213.143.0.145] \n",
    "  5     2 ms     2 ms     2 ms  ask4-google-10ge-1.hex.ask4.net [213.143.6.5] \n",
    "  6     3 ms     6 ms     3 ms  209.85.248.229 \n",
    "  7     9 ms     3 ms     2 ms  142.251.54.47 \n",
    "  8     3 ms     3 ms     3 ms  lhr25s34-in-f4.1e100.net [142.250.187.228] \n",
    "\n",
    "Trace complete.\n",
    "\n",
    "The traceroute for google.com starts similarly, with the same local gateway and ISP gateway as github.com. However, after these initial hops, the route to google.com follows a more streamlined path. After passing through the core routers (hops 3 and 4), the packet reaches a specialised node labeled ask4-google-10ge-1.hex.ask4.net [213.143.6.5] at hop 5, indicating that traffic for Google is directed to a node dedicated to handling Google requests.\n",
    "\n",
    "The path continues with a few more hops (6 and 7) that maintain low and consistent round-trip times, typically between 1 and 9 milliseconds. Finally, the traceroute ends at hop 8 with the destination IP 142.250.187.228. The shorter path and the minimal delays imply an optimised, well-managed route for Google’s network traffic, resulting in efficient and fast connectivity.\n",
    "\n",
    "3. youtube.com\n",
    "\n",
    "Tracing route to youtube-ui.l.google.com [172.217.169.14]\n",
    "over a maximum of 30 hops:\n",
    "\n",
    "  1     1 ms     1 ms     1 ms  10.32.128.1 \n",
    "  2    61 ms     9 ms     3 ms  gw-vlan2593.e2.hex.ask4.net [213.143.8.25] \n",
    "  3    18 ms     4 ms     3 ms  core1.lond2.uk.ask4.net [213.143.0.150] \n",
    "  4    30 ms     4 ms     3 ms  core2.lond2.uk.ask4.net [213.143.0.145] \n",
    "  5     2 ms     2 ms     3 ms  ask4-google-10ge-1.hex.ask4.net [213.143.6.5] \n",
    "  6     4 ms     4 ms     3 ms  209.85.249.149 \n",
    "  7     5 ms     5 ms     3 ms  209.85.241.95 \n",
    "  8     3 ms     3 ms     5 ms  lhr25s26-in-f14.1e100.net [172.217.169.14] \n",
    "\n",
    "Trace complete.\n",
    "\n",
    "The traceroute for youtube.com also begins with the same local gateway and ISP gateway as the other two routes. However, there is an early difference: at the second hop, one of the measurements shows a higher latency (61 ms), which might indicate a temporary congestion or a longer physical distance at that point.\n",
    "\n",
    "After this initial divergence, the path for youtube.com closely resembles that of google.com. The route passes through the same or similar core routers in London and reaches the same dedicated Google network node at hop 5 (ask4-google-10ge-1.hex.ask4.net [213.143.6.5]). Hops 6 through 8 show consistent, low latencies, and the traceroute concludes at hop 8 with the IP address 172.217.169.14.\n",
    "\n",
    "Given that YouTube is part of the Google infrastructure, it is not surprising to see a similar routing path to that of google.com. The minor differences in latency, particularly in the earlier hops, could be due to slight variations in network congestion or routing policies specific to YouTube’s traffic."
   ]
  }
 ],
 "metadata": {
  "kernelspec": {
   "display_name": "base",
   "language": "python",
   "name": "python3"
  },
  "language_info": {
   "codemirror_mode": {
    "name": "ipython",
    "version": 3
   },
   "file_extension": ".py",
   "mimetype": "text/x-python",
   "name": "python",
   "nbconvert_exporter": "python",
   "pygments_lexer": "ipython3",
   "version": "3.12.4"
  }
 },
 "nbformat": 4,
 "nbformat_minor": 2
}
