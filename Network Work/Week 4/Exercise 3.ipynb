{
 "cells": [
  {
   "cell_type": "code",
   "execution_count": null,
   "metadata": {},
   "outputs": [
    {
     "name": "stdout",
     "output_type": "stream",
     "text": [
      "Temperature at Goldsmiths, University: 10.6°C\n",
      "Temperature at British Library: 11.1°C\n",
      "The British Library is warmer than Goldsmiths, University.\n"
     ]
    }
   ],
   "source": [
    "# Exercise 5: \n",
    "\n",
    "import requests\n",
    "\n",
    "def fetch_temperature(latitude, longitude):\n",
    "    api_url = f\"https://api.open-meteo.com/v1/forecast?latitude={latitude}&longitude={longitude}&current_weather=true\"\n",
    "    response = requests.get(api_url)\n",
    "    if response.status_code == 200:\n",
    "        weather_data = response.json()\n",
    "        return weather_data[\"current_weather\"][\"temperature\"]\n",
    "    else:\n",
    "        return None\n",
    "\n",
    "# Goldsmiths, University of London\n",
    "uni_lat, uni_lon = 51.4749, -0.0058\n",
    "# British Library\n",
    "bl_lat, bl_lon = 51.5299, -0.1277\n",
    "\n",
    "uni_temp = fetch_temperature(uni_lat, uni_lon)\n",
    "bl_temp = fetch_temperature(bl_lat, bl_lon)\n",
    "\n",
    "if uni_temp is not None and bl_temp is not None:\n",
    "    print(f\"Temperature at Goldsmiths, University: {uni_temp}°C\")\n",
    "    print(f\"Temperature at British Library: {bl_temp}°C\")\n",
    "    if uni_temp > bl_temp:\n",
    "        print(\"Goldsmiths, University is warmer than the British Library.\")\n",
    "    elif uni_temp < bl_temp:\n",
    "        print(\"The British Library is warmer than Goldsmiths, University.\")\n",
    "    else:\n",
    "        print(\"Both locations have the same temperature.\")\n",
    "else:\n",
    "    print(\"Failed to fetch weather data for one or both locations.\")"
   ]
  },
  {
   "cell_type": "code",
   "execution_count": 1,
   "metadata": {},
   "outputs": [
    {
     "name": "stdout",
     "output_type": "stream",
     "text": [
      "Hourly temperature forecast for Goldsmiths University:\n",
      "2025-03-20T00:00: 10.2°C\n",
      "2025-03-20T01:00: 9.7°C\n",
      "2025-03-20T02:00: 9.0°C\n",
      "2025-03-20T03:00: 8.8°C\n",
      "2025-03-20T04:00: 8.4°C\n",
      "2025-03-20T05:00: 8.1°C\n"
     ]
    }
   ],
   "source": [
    "# Exercise 6: Experimenting with the API\n",
    "\n",
    "import requests\n",
    "\n",
    "def fetch_hourly_forecast(latitude, longitude):\n",
    "    # Request hourly temperature forecast data.\n",
    "    api_url = f\"https://api.open-meteo.com/v1/forecast?latitude={latitude}&longitude={longitude}&hourly=temperature_2m\"\n",
    "    response = requests.get(api_url)\n",
    "    if response.status_code == 200:\n",
    "        data = response.json()\n",
    "        times = data['hourly']['time']\n",
    "        temperatures = data['hourly']['temperature_2m']\n",
    "        # Create a list of (time, temperature) tuples.\n",
    "        forecast = list(zip(times, temperatures))\n",
    "        return forecast\n",
    "    else:\n",
    "        return None\n",
    "\n",
    "forecast = fetch_hourly_forecast(51.4749, -0.0058)\n",
    "if forecast:\n",
    "    print(\"Hourly temperature forecast for Goldsmiths University:\")\n",
    "    for time, temp in forecast[:6]:\n",
    "        print(f\"{time}: {temp}°C\")\n",
    "else:\n",
    "    print(\"Failed to fetch hourly forecast data.\")"
   ]
  }
 ],
 "metadata": {
  "kernelspec": {
   "display_name": "base",
   "language": "python",
   "name": "python3"
  },
  "language_info": {
   "codemirror_mode": {
    "name": "ipython",
    "version": 3
   },
   "file_extension": ".py",
   "mimetype": "text/x-python",
   "name": "python",
   "nbconvert_exporter": "python",
   "pygments_lexer": "ipython3",
   "version": "3.12.4"
  }
 },
 "nbformat": 4,
 "nbformat_minor": 2
}
